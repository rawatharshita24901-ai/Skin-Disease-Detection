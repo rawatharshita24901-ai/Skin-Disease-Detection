{
 "cells": [
  {
   "cell_type": "code",
   "execution_count": 2,
   "id": "15d35a71",
   "metadata": {},
   "outputs": [],
   "source": [
    "import numpy as np\n",
    "import tensorflow as tf\n",
    "from tensorflow.keras import layers, models, regularizers\n",
    "from tensorflow.keras.callbacks import EarlyStopping, ReduceLROnPlateau, ModelCheckpoint\n",
    "from tensorflow.keras.preprocessing.image import ImageDataGenerator\n",
    "from tensorflow.keras.utils import to_categorical\n",
    "import cv2\n",
    "import os\n",
    "from sklearn.model_selection import train_test_split\n",
    "import matplotlib.pyplot as plt\n",
    "import seaborn as sns\n",
    "from sklearn.metrics import confusion_matrix, classification_report, accuracy_score, precision_score, recall_score, f1_score"
   ]
  },
  {
   "cell_type": "code",
   "execution_count": 3,
   "id": "e5ab1192",
   "metadata": {},
   "outputs": [],
   "source": [
    "\n",
    "train_dir = \"E:/VS/Project/DERMNET/train\"\n",
    "test_dir = \"E:/VS/Project/DERMNET/test\""
   ]
  },
  {
   "cell_type": "code",
   "execution_count": 4,
   "id": "268cb104",
   "metadata": {},
   "outputs": [
    {
     "name": "stdout",
     "output_type": "stream",
     "text": [
      "Classes found: ['Acne and Rosacea Photos', 'Actinic Keratosis Basal Cell Carcinoma and other Malignant Lesions', 'Atopic Dermatitis Photos', 'Bullous Disease Photos', 'Cellulitis Impetigo and other Bacterial Infections', 'Eczema Photos', 'Exanthems and Drug Eruptions', 'Hair Loss Photos Alopecia and other Hair Diseases', 'Herpes HPV and other STDs Photos', 'Light Diseases and Disorders of Pigmentation', 'Lupus and other Connective Tissue diseases', 'Melanoma Skin Cancer Nevi and Moles', 'Nail Fungus and other Nail Disease', 'Poison Ivy Photos and other Contact Dermatitis', 'Psoriasis pictures Lichen Planus and related diseases', 'Scabies Lyme Disease and other Infestations and Bites', 'Seborrheic Keratoses and other Benign Tumors', 'Systemic Disease', 'Tinea Ringworm Candidiasis and other Fungal Infections', 'Urticaria Hives', 'Vascular Tumors', 'Vasculitis Photos', 'Warts Molluscum and other Viral Infections']\n"
     ]
    }
   ],
   "source": [
    "\n",
    "label_names = sorted(os.listdir(train_dir))\n",
    "label_map = {label: index for index, label in enumerate(label_names)}\n",
    "print(\"Classes found:\", label_names)"
   ]
  },
  {
   "cell_type": "code",
   "execution_count": 5,
   "id": "cd26a0fd",
   "metadata": {},
   "outputs": [],
   "source": [
    "\n",
    "def load_data(data_dir, img_size=(128, 128)):\n",
    "    images = []\n",
    "    labels = []\n",
    "\n",
    "    for label in os.listdir(data_dir):\n",
    "        label_dir = os.path.join(data_dir, label)\n",
    "        if os.path.isdir(label_dir):\n",
    "            for img_name in os.listdir(label_dir):\n",
    "                img_path = os.path.join(label_dir, img_name)\n",
    "                img = cv2.imread(img_path)  # Read in color (BGR)\n",
    "                if img is not None:\n",
    "                    img = cv2.cvtColor(img, cv2.COLOR_BGR2RGB)  # Convert to RGB\n",
    "                    img = cv2.resize(img, img_size)\n",
    "                    images.append(img)\n",
    "                    if label in label_map:\n",
    "                        labels.append(label_map[label])\n",
    "                else:\n",
    "                    print(f\"Warning: Could not load {img_path}\")\n",
    "\n",
    "    images = np.array(images, dtype=\"float32\") / 255.0\n",
    "    labels = to_categorical(np.array(labels), num_classes=len(label_names))\n",
    "    return images, labels"
   ]
  },
  {
   "cell_type": "code",
   "execution_count": 6,
   "id": "b11d6285",
   "metadata": {},
   "outputs": [
    {
     "name": "stdout",
     "output_type": "stream",
     "text": [
      "Train dir exists: True\n",
      "Subfolders in train_dir: ['Acne and Rosacea Photos', 'Actinic Keratosis Basal Cell Carcinoma and other Malignant Lesions', 'Atopic Dermatitis Photos', 'Bullous Disease Photos', 'Cellulitis Impetigo and other Bacterial Infections', 'Eczema Photos', 'Exanthems and Drug Eruptions', 'Hair Loss Photos Alopecia and other Hair Diseases', 'Herpes HPV and other STDs Photos', 'Light Diseases and Disorders of Pigmentation', 'Lupus and other Connective Tissue diseases', 'Melanoma Skin Cancer Nevi and Moles', 'Nail Fungus and other Nail Disease', 'Poison Ivy Photos and other Contact Dermatitis', 'Psoriasis pictures Lichen Planus and related diseases', 'Scabies Lyme Disease and other Infestations and Bites', 'Seborrheic Keratoses and other Benign Tumors', 'Systemic Disease', 'Tinea Ringworm Candidiasis and other Fungal Infections', 'Urticaria Hives', 'Vascular Tumors', 'Vasculitis Photos', 'Warts Molluscum and other Viral Infections']\n"
     ]
    }
   ],
   "source": [
    "print(\"Train dir exists:\", os.path.exists(train_dir))\n",
    "print(\"Subfolders in train_dir:\", os.listdir(train_dir))"
   ]
  },
  {
   "cell_type": "code",
   "execution_count": 7,
   "id": "cae59cd3",
   "metadata": {},
   "outputs": [],
   "source": [
    "\n",
    "train_images, train_labels = load_data(train_dir)\n",
    "test_images, test_labels = load_data(test_dir)"
   ]
  },
  {
   "cell_type": "code",
   "execution_count": 8,
   "id": "4fb8e1e6",
   "metadata": {},
   "outputs": [],
   "source": [
    "\n",
    "train_images, val_images, train_labels, val_labels = train_test_split(\n",
    "    train_images, train_labels, test_size=0.2, random_state=42\n",
    ")"
   ]
  },
  {
   "cell_type": "code",
   "execution_count": 9,
   "id": "f3e7dc6a",
   "metadata": {},
   "outputs": [],
   "source": [
    "\n",
    "datagen = ImageDataGenerator(\n",
    "    rotation_range=30,\n",
    "    width_shift_range=0.2,\n",
    "    height_shift_range=0.2,\n",
    "    shear_range=0.2,\n",
    "    zoom_range=0.2,\n",
    "    horizontal_flip=True,\n",
    "    fill_mode=\"nearest\"\n",
    ")"
   ]
  },
  {
   "cell_type": "code",
   "execution_count": 10,
   "id": "acb5b18e",
   "metadata": {},
   "outputs": [],
   "source": [
    "\n",
    "model = models.Sequential([\n",
    "    layers.Input(shape=(128, 128, 3)),\n",
    "\n",
    "    layers.Conv2D(32, (3, 3), activation=\"relu\", kernel_regularizer=regularizers.l2(0.001)),\n",
    "    layers.BatchNormalization(),\n",
    "    layers.MaxPooling2D(2, 2),\n",
    "\n",
    "    layers.Conv2D(64, (3, 3), activation=\"relu\", kernel_regularizer=regularizers.l2(0.001)),\n",
    "    layers.BatchNormalization(),\n",
    "    layers.MaxPooling2D(2, 2),\n",
    "\n",
    "    layers.Conv2D(128, (3, 3), activation=\"relu\", kernel_regularizer=regularizers.l2(0.001)),\n",
    "    layers.BatchNormalization(),\n",
    "    layers.MaxPooling2D(2, 2),\n",
    "\n",
    "    layers.Conv2D(256, (3, 3), activation=\"relu\", kernel_regularizer=regularizers.l2(0.001)),\n",
    "    layers.BatchNormalization(),\n",
    "    layers.MaxPooling2D(2, 2),\n",
    "\n",
    "    layers.Flatten(),\n",
    "    layers.Dense(512, activation=\"relu\", kernel_regularizer=regularizers.l2(0.001)),\n",
    "    layers.Dropout(0.5),\n",
    "    layers.Dense(len(label_names), activation=\"softmax\")\n",
    "])\n",
    "\n",
    "model.compile(optimizer=tf.keras.optimizers.Adam(learning_rate=1e-4),\n",
    "              loss=\"categorical_crossentropy\",\n",
    "              metrics=[\"accuracy\"])"
   ]
  },
  {
   "cell_type": "code",
   "execution_count": 11,
   "id": "a9633f91",
   "metadata": {},
   "outputs": [],
   "source": [
    "\n",
    "early_stopping = EarlyStopping(monitor=\"val_loss\", patience=10, restore_best_weights=True)\n",
    "lr_reduction = ReduceLROnPlateau(monitor=\"val_loss\", patience=3, factor=0.5, min_lr=1e-7, verbose=1)\n",
    "model_checkpoint = ModelCheckpoint(\"best_dermnet_model.keras\", monitor=\"val_loss\", save_best_only=True, verbose=1)"
   ]
  },
  {
   "cell_type": "code",
   "execution_count": 12,
   "id": "681ce68c",
   "metadata": {},
   "outputs": [
    {
     "name": "stderr",
     "output_type": "stream",
     "text": [
      "C:\\Users\\Naveen Singh Rawat\\AppData\\Roaming\\Python\\Python313\\site-packages\\keras\\src\\trainers\\data_adapters\\py_dataset_adapter.py:121: UserWarning: Your `PyDataset` class should call `super().__init__(**kwargs)` in its constructor. `**kwargs` can include `workers`, `use_multiprocessing`, `max_queue_size`. Do not pass these arguments to `fit()`, as they will be ignored.\n",
      "  self._warn_if_super_not_called()\n"
     ]
    },
    {
     "name": "stdout",
     "output_type": "stream",
     "text": [
      "Epoch 1/50\n",
      "\u001b[1m389/389\u001b[0m \u001b[32m━━━━━━━━━━━━━━━━━━━━\u001b[0m\u001b[37m\u001b[0m \u001b[1m0s\u001b[0m 1s/step - accuracy: 0.1047 - loss: 4.9799\n",
      "Epoch 1: val_loss improved from None to 4.44988, saving model to best_dermnet_model.keras\n",
      "\u001b[1m389/389\u001b[0m \u001b[32m━━━━━━━━━━━━━━━━━━━━\u001b[0m\u001b[37m\u001b[0m \u001b[1m655s\u001b[0m 2s/step - accuracy: 0.1206 - loss: 4.5005 - val_accuracy: 0.0900 - val_loss: 4.4499 - learning_rate: 1.0000e-04\n",
      "Epoch 2/50\n",
      "\u001b[1m389/389\u001b[0m \u001b[32m━━━━━━━━━━━━━━━━━━━━\u001b[0m\u001b[37m\u001b[0m \u001b[1m0s\u001b[0m 1s/step - accuracy: 0.1474 - loss: 4.1772\n",
      "Epoch 2: val_loss improved from 4.44988 to 3.98799, saving model to best_dermnet_model.keras\n",
      "\u001b[1m389/389\u001b[0m \u001b[32m━━━━━━━━━━━━━━━━━━━━\u001b[0m\u001b[37m\u001b[0m \u001b[1m425s\u001b[0m 1s/step - accuracy: 0.1479 - loss: 4.1672 - val_accuracy: 0.1880 - val_loss: 3.9880 - learning_rate: 1.0000e-04\n",
      "Epoch 3/50\n",
      "\u001b[1m389/389\u001b[0m \u001b[32m━━━━━━━━━━━━━━━━━━━━\u001b[0m\u001b[37m\u001b[0m \u001b[1m0s\u001b[0m 1s/step - accuracy: 0.1567 - loss: 4.1022\n",
      "Epoch 3: val_loss improved from 3.98799 to 3.92194, saving model to best_dermnet_model.keras\n",
      "\u001b[1m389/389\u001b[0m \u001b[32m━━━━━━━━━━━━━━━━━━━━\u001b[0m\u001b[37m\u001b[0m \u001b[1m451s\u001b[0m 1s/step - accuracy: 0.1605 - loss: 4.0856 - val_accuracy: 0.2114 - val_loss: 3.9219 - learning_rate: 1.0000e-04\n",
      "Epoch 4/50\n",
      "\u001b[1m389/389\u001b[0m \u001b[32m━━━━━━━━━━━━━━━━━━━━\u001b[0m\u001b[37m\u001b[0m \u001b[1m0s\u001b[0m 976ms/step - accuracy: 0.1687 - loss: 4.0063\n",
      "Epoch 4: val_loss improved from 3.92194 to 3.82660, saving model to best_dermnet_model.keras\n",
      "\u001b[1m389/389\u001b[0m \u001b[32m━━━━━━━━━━━━━━━━━━━━\u001b[0m\u001b[37m\u001b[0m \u001b[1m399s\u001b[0m 1s/step - accuracy: 0.1677 - loss: 3.9991 - val_accuracy: 0.2163 - val_loss: 3.8266 - learning_rate: 1.0000e-04\n",
      "Epoch 5/50\n",
      "\u001b[1m389/389\u001b[0m \u001b[32m━━━━━━━━━━━━━━━━━━━━\u001b[0m\u001b[37m\u001b[0m \u001b[1m0s\u001b[0m 890ms/step - accuracy: 0.1718 - loss: 3.9498\n",
      "Epoch 5: val_loss did not improve from 3.82660\n",
      "\u001b[1m389/389\u001b[0m \u001b[32m━━━━━━━━━━━━━━━━━━━━\u001b[0m\u001b[37m\u001b[0m \u001b[1m364s\u001b[0m 935ms/step - accuracy: 0.1747 - loss: 3.9314 - val_accuracy: 0.1816 - val_loss: 3.8706 - learning_rate: 1.0000e-04\n",
      "Epoch 6/50\n",
      "\u001b[1m389/389\u001b[0m \u001b[32m━━━━━━━━━━━━━━━━━━━━\u001b[0m\u001b[37m\u001b[0m \u001b[1m0s\u001b[0m 876ms/step - accuracy: 0.1746 - loss: 3.8749\n",
      "Epoch 6: val_loss improved from 3.82660 to 3.72635, saving model to best_dermnet_model.keras\n",
      "\u001b[1m389/389\u001b[0m \u001b[32m━━━━━━━━━━━━━━━━━━━━\u001b[0m\u001b[37m\u001b[0m \u001b[1m360s\u001b[0m 923ms/step - accuracy: 0.1797 - loss: 3.8525 - val_accuracy: 0.2166 - val_loss: 3.7264 - learning_rate: 1.0000e-04\n",
      "Epoch 7/50\n",
      "\u001b[1m389/389\u001b[0m \u001b[32m━━━━━━━━━━━━━━━━━━━━\u001b[0m\u001b[37m\u001b[0m \u001b[1m0s\u001b[0m 811ms/step - accuracy: 0.1795 - loss: 3.8079\n",
      "Epoch 7: val_loss improved from 3.72635 to 3.68876, saving model to best_dermnet_model.keras\n",
      "\u001b[1m389/389\u001b[0m \u001b[32m━━━━━━━━━━━━━━━━━━━━\u001b[0m\u001b[37m\u001b[0m \u001b[1m334s\u001b[0m 858ms/step - accuracy: 0.1867 - loss: 3.7810 - val_accuracy: 0.2185 - val_loss: 3.6888 - learning_rate: 1.0000e-04\n",
      "Epoch 8/50\n",
      "\u001b[1m389/389\u001b[0m \u001b[32m━━━━━━━━━━━━━━━━━━━━\u001b[0m\u001b[37m\u001b[0m \u001b[1m0s\u001b[0m 867ms/step - accuracy: 0.2023 - loss: 3.7096\n",
      "Epoch 8: val_loss improved from 3.68876 to 3.65193, saving model to best_dermnet_model.keras\n",
      "\u001b[1m389/389\u001b[0m \u001b[32m━━━━━━━━━━━━━━━━━━━━\u001b[0m\u001b[37m\u001b[0m \u001b[1m356s\u001b[0m 913ms/step - accuracy: 0.1959 - loss: 3.7009 - val_accuracy: 0.2085 - val_loss: 3.6519 - learning_rate: 1.0000e-04\n",
      "Epoch 9/50\n",
      "\u001b[1m389/389\u001b[0m \u001b[32m━━━━━━━━━━━━━━━━━━━━\u001b[0m\u001b[37m\u001b[0m \u001b[1m0s\u001b[0m 844ms/step - accuracy: 0.2006 - loss: 3.6338\n",
      "Epoch 9: val_loss improved from 3.65193 to 3.53489, saving model to best_dermnet_model.keras\n",
      "\u001b[1m389/389\u001b[0m \u001b[32m━━━━━━━━━━━━━━━━━━━━\u001b[0m\u001b[37m\u001b[0m \u001b[1m347s\u001b[0m 890ms/step - accuracy: 0.2017 - loss: 3.6162 - val_accuracy: 0.2179 - val_loss: 3.5349 - learning_rate: 1.0000e-04\n",
      "Epoch 10/50\n",
      "\u001b[1m389/389\u001b[0m \u001b[32m━━━━━━━━━━━━━━━━━━━━\u001b[0m\u001b[37m\u001b[0m \u001b[1m0s\u001b[0m 949ms/step - accuracy: 0.1984 - loss: 3.5728\n",
      "Epoch 10: val_loss improved from 3.53489 to 3.42802, saving model to best_dermnet_model.keras\n",
      "\u001b[1m389/389\u001b[0m \u001b[32m━━━━━━━━━━━━━━━━━━━━\u001b[0m\u001b[37m\u001b[0m \u001b[1m393s\u001b[0m 1s/step - accuracy: 0.2014 - loss: 3.5498 - val_accuracy: 0.2378 - val_loss: 3.4280 - learning_rate: 1.0000e-04\n",
      "Epoch 11/50\n",
      "\u001b[1m389/389\u001b[0m \u001b[32m━━━━━━━━━━━━━━━━━━━━\u001b[0m\u001b[37m\u001b[0m \u001b[1m0s\u001b[0m 1s/step - accuracy: 0.2100 - loss: 3.4926\n",
      "Epoch 11: val_loss improved from 3.42802 to 3.37223, saving model to best_dermnet_model.keras\n",
      "\u001b[1m389/389\u001b[0m \u001b[32m━━━━━━━━━━━━━━━━━━━━\u001b[0m\u001b[37m\u001b[0m \u001b[1m413s\u001b[0m 1s/step - accuracy: 0.2074 - loss: 3.4793 - val_accuracy: 0.2352 - val_loss: 3.3722 - learning_rate: 1.0000e-04\n",
      "Epoch 12/50\n",
      "\u001b[1m389/389\u001b[0m \u001b[32m━━━━━━━━━━━━━━━━━━━━\u001b[0m\u001b[37m\u001b[0m \u001b[1m0s\u001b[0m 950ms/step - accuracy: 0.2147 - loss: 3.4237\n",
      "Epoch 12: val_loss did not improve from 3.37223\n",
      "\u001b[1m389/389\u001b[0m \u001b[32m━━━━━━━━━━━━━━━━━━━━\u001b[0m\u001b[37m\u001b[0m \u001b[1m389s\u001b[0m 997ms/step - accuracy: 0.2100 - loss: 3.4249 - val_accuracy: 0.2323 - val_loss: 3.3857 - learning_rate: 1.0000e-04\n",
      "Epoch 13/50\n",
      "\u001b[1m389/389\u001b[0m \u001b[32m━━━━━━━━━━━━━━━━━━━━\u001b[0m\u001b[37m\u001b[0m \u001b[1m0s\u001b[0m 941ms/step - accuracy: 0.2081 - loss: 3.3699\n",
      "Epoch 13: val_loss improved from 3.37223 to 3.27848, saving model to best_dermnet_model.keras\n",
      "\u001b[1m389/389\u001b[0m \u001b[32m━━━━━━━━━━━━━━━━━━━━\u001b[0m\u001b[37m\u001b[0m \u001b[1m391s\u001b[0m 1s/step - accuracy: 0.2125 - loss: 3.3475 - val_accuracy: 0.2535 - val_loss: 3.2785 - learning_rate: 1.0000e-04\n",
      "Epoch 14/50\n",
      "\u001b[1m389/389\u001b[0m \u001b[32m━━━━━━━━━━━━━━━━━━━━\u001b[0m\u001b[37m\u001b[0m \u001b[1m0s\u001b[0m 999ms/step - accuracy: 0.2172 - loss: 3.2971\n",
      "Epoch 14: val_loss improved from 3.27848 to 3.24520, saving model to best_dermnet_model.keras\n",
      "\u001b[1m389/389\u001b[0m \u001b[32m━━━━━━━━━━━━━━━━━━━━\u001b[0m\u001b[37m\u001b[0m \u001b[1m411s\u001b[0m 1s/step - accuracy: 0.2203 - loss: 3.2974 - val_accuracy: 0.2458 - val_loss: 3.2452 - learning_rate: 1.0000e-04\n",
      "Epoch 15/50\n",
      "\u001b[1m389/389\u001b[0m \u001b[32m━━━━━━━━━━━━━━━━━━━━\u001b[0m\u001b[37m\u001b[0m \u001b[1m0s\u001b[0m 926ms/step - accuracy: 0.2294 - loss: 3.2327\n",
      "Epoch 15: val_loss did not improve from 3.24520\n",
      "\u001b[1m389/389\u001b[0m \u001b[32m━━━━━━━━━━━━━━━━━━━━\u001b[0m\u001b[37m\u001b[0m \u001b[1m377s\u001b[0m 969ms/step - accuracy: 0.2245 - loss: 3.2301 - val_accuracy: 0.2301 - val_loss: 3.2501 - learning_rate: 1.0000e-04\n",
      "Epoch 16/50\n",
      "\u001b[1m389/389\u001b[0m \u001b[32m━━━━━━━━━━━━━━━━━━━━\u001b[0m\u001b[37m\u001b[0m \u001b[1m0s\u001b[0m 823ms/step - accuracy: 0.2302 - loss: 3.1863\n",
      "Epoch 16: val_loss improved from 3.24520 to 3.12364, saving model to best_dermnet_model.keras\n",
      "\u001b[1m389/389\u001b[0m \u001b[32m━━━━━━━━━━━━━━━━━━━━\u001b[0m\u001b[37m\u001b[0m \u001b[1m338s\u001b[0m 866ms/step - accuracy: 0.2299 - loss: 3.1843 - val_accuracy: 0.2445 - val_loss: 3.1236 - learning_rate: 1.0000e-04\n",
      "Epoch 17/50\n",
      "\u001b[1m389/389\u001b[0m \u001b[32m━━━━━━━━━━━━━━━━━━━━\u001b[0m\u001b[37m\u001b[0m \u001b[1m0s\u001b[0m 837ms/step - accuracy: 0.2389 - loss: 3.1564\n",
      "Epoch 17: val_loss did not improve from 3.12364\n",
      "\u001b[1m389/389\u001b[0m \u001b[32m━━━━━━━━━━━━━━━━━━━━\u001b[0m\u001b[37m\u001b[0m \u001b[1m343s\u001b[0m 882ms/step - accuracy: 0.2366 - loss: 3.1523 - val_accuracy: 0.2320 - val_loss: 3.1680 - learning_rate: 1.0000e-04\n",
      "Epoch 18/50\n",
      "\u001b[1m389/389\u001b[0m \u001b[32m━━━━━━━━━━━━━━━━━━━━\u001b[0m\u001b[37m\u001b[0m \u001b[1m0s\u001b[0m 1s/step - accuracy: 0.2413 - loss: 3.0851\n",
      "Epoch 18: val_loss improved from 3.12364 to 3.06564, saving model to best_dermnet_model.keras\n",
      "\u001b[1m389/389\u001b[0m \u001b[32m━━━━━━━━━━━━━━━━━━━━\u001b[0m\u001b[37m\u001b[0m \u001b[1m460s\u001b[0m 1s/step - accuracy: 0.2331 - loss: 3.1079 - val_accuracy: 0.2600 - val_loss: 3.0656 - learning_rate: 1.0000e-04\n",
      "Epoch 19/50\n",
      "\u001b[1m389/389\u001b[0m \u001b[32m━━━━━━━━━━━━━━━━━━━━\u001b[0m\u001b[37m\u001b[0m \u001b[1m0s\u001b[0m 1s/step - accuracy: 0.2370 - loss: 3.0639\n",
      "Epoch 19: val_loss did not improve from 3.06564\n",
      "\u001b[1m389/389\u001b[0m \u001b[32m━━━━━━━━━━━━━━━━━━━━\u001b[0m\u001b[37m\u001b[0m \u001b[1m411s\u001b[0m 1s/step - accuracy: 0.2378 - loss: 3.0788 - val_accuracy: 0.2580 - val_loss: 3.0985 - learning_rate: 1.0000e-04\n",
      "Epoch 20/50\n",
      "\u001b[1m389/389\u001b[0m \u001b[32m━━━━━━━━━━━━━━━━━━━━\u001b[0m\u001b[37m\u001b[0m \u001b[1m0s\u001b[0m 861ms/step - accuracy: 0.2516 - loss: 3.0137\n",
      "Epoch 20: val_loss improved from 3.06564 to 3.00743, saving model to best_dermnet_model.keras\n",
      "\u001b[1m389/389\u001b[0m \u001b[32m━━━━━━━━━━━━━━━━━━━━\u001b[0m\u001b[37m\u001b[0m \u001b[1m355s\u001b[0m 911ms/step - accuracy: 0.2429 - loss: 3.0423 - val_accuracy: 0.2657 - val_loss: 3.0074 - learning_rate: 1.0000e-04\n",
      "Epoch 21/50\n",
      "\u001b[1m389/389\u001b[0m \u001b[32m━━━━━━━━━━━━━━━━━━━━\u001b[0m\u001b[37m\u001b[0m \u001b[1m0s\u001b[0m 876ms/step - accuracy: 0.2436 - loss: 3.0020\n",
      "Epoch 21: val_loss improved from 3.00743 to 2.94451, saving model to best_dermnet_model.keras\n",
      "\u001b[1m389/389\u001b[0m \u001b[32m━━━━━━━━━━━━━━━━━━━━\u001b[0m\u001b[37m\u001b[0m \u001b[1m361s\u001b[0m 927ms/step - accuracy: 0.2395 - loss: 3.0178 - val_accuracy: 0.2844 - val_loss: 2.9445 - learning_rate: 1.0000e-04\n",
      "Epoch 22/50\n",
      "\u001b[1m389/389\u001b[0m \u001b[32m━━━━━━━━━━━━━━━━━━━━\u001b[0m\u001b[37m\u001b[0m \u001b[1m0s\u001b[0m 875ms/step - accuracy: 0.2442 - loss: 2.9837\n",
      "Epoch 22: val_loss did not improve from 2.94451\n",
      "\u001b[1m389/389\u001b[0m \u001b[32m━━━━━━━━━━━━━━━━━━━━\u001b[0m\u001b[37m\u001b[0m \u001b[1m359s\u001b[0m 921ms/step - accuracy: 0.2465 - loss: 2.9807 - val_accuracy: 0.2693 - val_loss: 2.9505 - learning_rate: 1.0000e-04\n",
      "Epoch 23/50\n",
      "\u001b[1m389/389\u001b[0m \u001b[32m━━━━━━━━━━━━━━━━━━━━\u001b[0m\u001b[37m\u001b[0m \u001b[1m0s\u001b[0m 3s/step - accuracy: 0.2489 - loss: 2.9640\n",
      "Epoch 23: val_loss improved from 2.94451 to 2.90534, saving model to best_dermnet_model.keras\n",
      "\u001b[1m389/389\u001b[0m \u001b[32m━━━━━━━━━━━━━━━━━━━━\u001b[0m\u001b[37m\u001b[0m \u001b[1m1218s\u001b[0m 3s/step - accuracy: 0.2490 - loss: 2.9620 - val_accuracy: 0.2808 - val_loss: 2.9053 - learning_rate: 1.0000e-04\n",
      "Epoch 24/50\n",
      "\u001b[1m389/389\u001b[0m \u001b[32m━━━━━━━━━━━━━━━━━━━━\u001b[0m\u001b[37m\u001b[0m \u001b[1m0s\u001b[0m 4s/step - accuracy: 0.2539 - loss: 2.9315\n",
      "Epoch 24: val_loss did not improve from 2.90534\n",
      "\u001b[1m389/389\u001b[0m \u001b[32m━━━━━━━━━━━━━━━━━━━━\u001b[0m\u001b[37m\u001b[0m \u001b[1m1526s\u001b[0m 4s/step - accuracy: 0.2489 - loss: 2.9398 - val_accuracy: 0.2680 - val_loss: 2.9228 - learning_rate: 1.0000e-04\n",
      "Epoch 25/50\n",
      "\u001b[1m389/389\u001b[0m \u001b[32m━━━━━━━━━━━━━━━━━━━━\u001b[0m\u001b[37m\u001b[0m \u001b[1m0s\u001b[0m 1s/step - accuracy: 0.2572 - loss: 2.9165\n",
      "Epoch 25: val_loss improved from 2.90534 to 2.89989, saving model to best_dermnet_model.keras\n",
      "\u001b[1m389/389\u001b[0m \u001b[32m━━━━━━━━━━━━━━━━━━━━\u001b[0m\u001b[37m\u001b[0m \u001b[1m412s\u001b[0m 1s/step - accuracy: 0.2566 - loss: 2.9157 - val_accuracy: 0.2690 - val_loss: 2.8999 - learning_rate: 1.0000e-04\n",
      "Epoch 26/50\n",
      "\u001b[1m389/389\u001b[0m \u001b[32m━━━━━━━━━━━━━━━━━━━━\u001b[0m\u001b[37m\u001b[0m \u001b[1m0s\u001b[0m 1s/step - accuracy: 0.2708 - loss: 2.8676\n",
      "Epoch 26: val_loss did not improve from 2.89989\n",
      "\u001b[1m389/389\u001b[0m \u001b[32m━━━━━━━━━━━━━━━━━━━━\u001b[0m\u001b[37m\u001b[0m \u001b[1m421s\u001b[0m 1s/step - accuracy: 0.2661 - loss: 2.8798 - val_accuracy: 0.2802 - val_loss: 2.9303 - learning_rate: 1.0000e-04\n",
      "Epoch 27/50\n",
      "\u001b[1m389/389\u001b[0m \u001b[32m━━━━━━━━━━━━━━━━━━━━\u001b[0m\u001b[37m\u001b[0m \u001b[1m0s\u001b[0m 1s/step - accuracy: 0.2671 - loss: 2.8574\n",
      "Epoch 27: val_loss did not improve from 2.89989\n",
      "\u001b[1m389/389\u001b[0m \u001b[32m━━━━━━━━━━━━━━━━━━━━\u001b[0m\u001b[37m\u001b[0m \u001b[1m511s\u001b[0m 1s/step - accuracy: 0.2653 - loss: 2.8748 - val_accuracy: 0.2600 - val_loss: 2.9047 - learning_rate: 1.0000e-04\n",
      "Epoch 28/50\n",
      "\u001b[1m389/389\u001b[0m \u001b[32m━━━━━━━━━━━━━━━━━━━━\u001b[0m\u001b[37m\u001b[0m \u001b[1m0s\u001b[0m 1s/step - accuracy: 0.2621 - loss: 2.8673\n",
      "Epoch 28: val_loss improved from 2.89989 to 2.89940, saving model to best_dermnet_model.keras\n",
      "\u001b[1m389/389\u001b[0m \u001b[32m━━━━━━━━━━━━━━━━━━━━\u001b[0m\u001b[37m\u001b[0m \u001b[1m444s\u001b[0m 1s/step - accuracy: 0.2621 - loss: 2.8602 - val_accuracy: 0.2725 - val_loss: 2.8994 - learning_rate: 1.0000e-04\n",
      "Epoch 29/50\n",
      "\u001b[1m389/389\u001b[0m \u001b[32m━━━━━━━━━━━━━━━━━━━━\u001b[0m\u001b[37m\u001b[0m \u001b[1m0s\u001b[0m 1s/step - accuracy: 0.2653 - loss: 2.8251\n",
      "Epoch 29: val_loss improved from 2.89940 to 2.89328, saving model to best_dermnet_model.keras\n",
      "\u001b[1m389/389\u001b[0m \u001b[32m━━━━━━━━━━━━━━━━━━━━\u001b[0m\u001b[37m\u001b[0m \u001b[1m456s\u001b[0m 1s/step - accuracy: 0.2668 - loss: 2.8321 - val_accuracy: 0.2744 - val_loss: 2.8933 - learning_rate: 1.0000e-04\n",
      "Epoch 30/50\n",
      "\u001b[1m389/389\u001b[0m \u001b[32m━━━━━━━━━━━━━━━━━━━━\u001b[0m\u001b[37m\u001b[0m \u001b[1m0s\u001b[0m 1s/step - accuracy: 0.2689 - loss: 2.8222\n",
      "Epoch 30: val_loss did not improve from 2.89328\n",
      "\u001b[1m389/389\u001b[0m \u001b[32m━━━━━━━━━━━━━━━━━━━━\u001b[0m\u001b[37m\u001b[0m \u001b[1m465s\u001b[0m 1s/step - accuracy: 0.2760 - loss: 2.8056 - val_accuracy: 0.2725 - val_loss: 2.9062 - learning_rate: 1.0000e-04\n",
      "Epoch 31/50\n",
      "\u001b[1m389/389\u001b[0m \u001b[32m━━━━━━━━━━━━━━━━━━━━\u001b[0m\u001b[37m\u001b[0m \u001b[1m0s\u001b[0m 1s/step - accuracy: 0.2719 - loss: 2.7995\n",
      "Epoch 31: val_loss improved from 2.89328 to 2.87218, saving model to best_dermnet_model.keras\n",
      "\u001b[1m389/389\u001b[0m \u001b[32m━━━━━━━━━━━━━━━━━━━━\u001b[0m\u001b[37m\u001b[0m \u001b[1m460s\u001b[0m 1s/step - accuracy: 0.2751 - loss: 2.7976 - val_accuracy: 0.2773 - val_loss: 2.8722 - learning_rate: 1.0000e-04\n",
      "Epoch 32/50\n",
      "\u001b[1m389/389\u001b[0m \u001b[32m━━━━━━━━━━━━━━━━━━━━\u001b[0m\u001b[37m\u001b[0m \u001b[1m0s\u001b[0m 1s/step - accuracy: 0.2757 - loss: 2.7989\n",
      "Epoch 32: val_loss improved from 2.87218 to 2.82050, saving model to best_dermnet_model.keras\n",
      "\u001b[1m389/389\u001b[0m \u001b[32m━━━━━━━━━━━━━━━━━━━━\u001b[0m\u001b[37m\u001b[0m \u001b[1m467s\u001b[0m 1s/step - accuracy: 0.2783 - loss: 2.7893 - val_accuracy: 0.2792 - val_loss: 2.8205 - learning_rate: 1.0000e-04\n",
      "Epoch 33/50\n",
      "\u001b[1m389/389\u001b[0m \u001b[32m━━━━━━━━━━━━━━━━━━━━\u001b[0m\u001b[37m\u001b[0m \u001b[1m0s\u001b[0m 1s/step - accuracy: 0.2908 - loss: 2.7684\n",
      "Epoch 33: val_loss improved from 2.82050 to 2.77025, saving model to best_dermnet_model.keras\n",
      "\u001b[1m389/389\u001b[0m \u001b[32m━━━━━━━━━━━━━━━━━━━━\u001b[0m\u001b[37m\u001b[0m \u001b[1m468s\u001b[0m 1s/step - accuracy: 0.2867 - loss: 2.7736 - val_accuracy: 0.2992 - val_loss: 2.7702 - learning_rate: 1.0000e-04\n",
      "Epoch 34/50\n",
      "\u001b[1m389/389\u001b[0m \u001b[32m━━━━━━━━━━━━━━━━━━━━\u001b[0m\u001b[37m\u001b[0m \u001b[1m0s\u001b[0m 1s/step - accuracy: 0.2919 - loss: 2.7460\n",
      "Epoch 34: val_loss did not improve from 2.77025\n",
      "\u001b[1m389/389\u001b[0m \u001b[32m━━━━━━━━━━━━━━━━━━━━\u001b[0m\u001b[37m\u001b[0m \u001b[1m507s\u001b[0m 1s/step - accuracy: 0.2877 - loss: 2.7641 - val_accuracy: 0.3004 - val_loss: 2.7896 - learning_rate: 1.0000e-04\n",
      "Epoch 35/50\n",
      "\u001b[1m389/389\u001b[0m \u001b[32m━━━━━━━━━━━━━━━━━━━━\u001b[0m\u001b[37m\u001b[0m \u001b[1m0s\u001b[0m 1s/step - accuracy: 0.2931 - loss: 2.7501\n",
      "Epoch 35: val_loss did not improve from 2.77025\n",
      "\u001b[1m389/389\u001b[0m \u001b[32m━━━━━━━━━━━━━━━━━━━━\u001b[0m\u001b[37m\u001b[0m \u001b[1m632s\u001b[0m 1s/step - accuracy: 0.2887 - loss: 2.7515 - val_accuracy: 0.2921 - val_loss: 2.8107 - learning_rate: 1.0000e-04\n",
      "Epoch 36/50\n",
      "\u001b[1m389/389\u001b[0m \u001b[32m━━━━━━━━━━━━━━━━━━━━\u001b[0m\u001b[37m\u001b[0m \u001b[1m0s\u001b[0m 1s/step - accuracy: 0.2925 - loss: 2.7319\n",
      "Epoch 36: ReduceLROnPlateau reducing learning rate to 4.999999873689376e-05.\n",
      "\n",
      "Epoch 36: val_loss did not improve from 2.77025\n",
      "\u001b[1m389/389\u001b[0m \u001b[32m━━━━━━━━━━━━━━━━━━━━\u001b[0m\u001b[37m\u001b[0m \u001b[1m543s\u001b[0m 1s/step - accuracy: 0.2937 - loss: 2.7250 - val_accuracy: 0.2876 - val_loss: 2.8095 - learning_rate: 1.0000e-04\n",
      "Epoch 37/50\n",
      "\u001b[1m389/389\u001b[0m \u001b[32m━━━━━━━━━━━━━━━━━━━━\u001b[0m\u001b[37m\u001b[0m \u001b[1m0s\u001b[0m 1s/step - accuracy: 0.3075 - loss: 2.6884\n",
      "Epoch 37: val_loss improved from 2.77025 to 2.73500, saving model to best_dermnet_model.keras\n",
      "\u001b[1m389/389\u001b[0m \u001b[32m━━━━━━━━━━━━━━━━━━━━\u001b[0m\u001b[37m\u001b[0m \u001b[1m509s\u001b[0m 1s/step - accuracy: 0.3104 - loss: 2.6558 - val_accuracy: 0.3165 - val_loss: 2.7350 - learning_rate: 5.0000e-05\n",
      "Epoch 38/50\n",
      "\u001b[1m389/389\u001b[0m \u001b[32m━━━━━━━━━━━━━━━━━━━━\u001b[0m\u001b[37m\u001b[0m \u001b[1m0s\u001b[0m 1s/step - accuracy: 0.3190 - loss: 2.6227\n",
      "Epoch 38: val_loss improved from 2.73500 to 2.72144, saving model to best_dermnet_model.keras\n",
      "\u001b[1m389/389\u001b[0m \u001b[32m━━━━━━━━━━━━━━━━━━━━\u001b[0m\u001b[37m\u001b[0m \u001b[1m574s\u001b[0m 1s/step - accuracy: 0.3239 - loss: 2.6131 - val_accuracy: 0.3226 - val_loss: 2.7214 - learning_rate: 5.0000e-05\n",
      "Epoch 39/50\n",
      "\u001b[1m389/389\u001b[0m \u001b[32m━━━━━━━━━━━━━━━━━━━━\u001b[0m\u001b[37m\u001b[0m \u001b[1m0s\u001b[0m 5s/step - accuracy: 0.3295 - loss: 2.5886\n",
      "Epoch 39: val_loss improved from 2.72144 to 2.65681, saving model to best_dermnet_model.keras\n",
      "\u001b[1m389/389\u001b[0m \u001b[32m━━━━━━━━━━━━━━━━━━━━\u001b[0m\u001b[37m\u001b[0m \u001b[1m1976s\u001b[0m 5s/step - accuracy: 0.3290 - loss: 2.5944 - val_accuracy: 0.3339 - val_loss: 2.6568 - learning_rate: 5.0000e-05\n",
      "Epoch 40/50\n",
      "\u001b[1m389/389\u001b[0m \u001b[32m━━━━━━━━━━━━━━━━━━━━\u001b[0m\u001b[37m\u001b[0m \u001b[1m0s\u001b[0m 838ms/step - accuracy: 0.3295 - loss: 2.5809\n",
      "Epoch 40: val_loss did not improve from 2.65681\n",
      "\u001b[1m389/389\u001b[0m \u001b[32m━━━━━━━━━━━━━━━━━━━━\u001b[0m\u001b[37m\u001b[0m \u001b[1m340s\u001b[0m 873ms/step - accuracy: 0.3261 - loss: 2.5927 - val_accuracy: 0.3300 - val_loss: 2.6834 - learning_rate: 5.0000e-05\n",
      "Epoch 41/50\n",
      "\u001b[1m389/389\u001b[0m \u001b[32m━━━━━━━━━━━━━━━━━━━━\u001b[0m\u001b[37m\u001b[0m \u001b[1m0s\u001b[0m 792ms/step - accuracy: 0.3257 - loss: 2.5674\n",
      "Epoch 41: val_loss did not improve from 2.65681\n",
      "\u001b[1m389/389\u001b[0m \u001b[32m━━━━━━━━━━━━━━━━━━━━\u001b[0m\u001b[37m\u001b[0m \u001b[1m320s\u001b[0m 823ms/step - accuracy: 0.3278 - loss: 2.5689 - val_accuracy: 0.3156 - val_loss: 2.7162 - learning_rate: 5.0000e-05\n",
      "Epoch 42/50\n",
      "\u001b[1m389/389\u001b[0m \u001b[32m━━━━━━━━━━━━━━━━━━━━\u001b[0m\u001b[37m\u001b[0m \u001b[1m0s\u001b[0m 884ms/step - accuracy: 0.3290 - loss: 2.5506\n",
      "Epoch 42: ReduceLROnPlateau reducing learning rate to 2.499999936844688e-05.\n",
      "\n",
      "Epoch 42: val_loss did not improve from 2.65681\n",
      "\u001b[1m389/389\u001b[0m \u001b[32m━━━━━━━━━━━━━━━━━━━━\u001b[0m\u001b[37m\u001b[0m \u001b[1m361s\u001b[0m 926ms/step - accuracy: 0.3314 - loss: 2.5480 - val_accuracy: 0.3284 - val_loss: 2.6725 - learning_rate: 5.0000e-05\n",
      "Epoch 43/50\n",
      "\u001b[1m389/389\u001b[0m \u001b[32m━━━━━━━━━━━━━━━━━━━━\u001b[0m\u001b[37m\u001b[0m \u001b[1m0s\u001b[0m 946ms/step - accuracy: 0.3496 - loss: 2.5224\n",
      "Epoch 43: val_loss did not improve from 2.65681\n",
      "\u001b[1m389/389\u001b[0m \u001b[32m━━━━━━━━━━━━━━━━━━━━\u001b[0m\u001b[37m\u001b[0m \u001b[1m389s\u001b[0m 998ms/step - accuracy: 0.3477 - loss: 2.5111 - val_accuracy: 0.3255 - val_loss: 2.6677 - learning_rate: 2.5000e-05\n",
      "Epoch 44/50\n",
      "\u001b[1m389/389\u001b[0m \u001b[32m━━━━━━━━━━━━━━━━━━━━\u001b[0m\u001b[37m\u001b[0m \u001b[1m0s\u001b[0m 821ms/step - accuracy: 0.3498 - loss: 2.4866\n",
      "Epoch 44: val_loss did not improve from 2.65681\n",
      "\u001b[1m389/389\u001b[0m \u001b[32m━━━━━━━━━━━━━━━━━━━━\u001b[0m\u001b[37m\u001b[0m \u001b[1m342s\u001b[0m 877ms/step - accuracy: 0.3568 - loss: 2.4812 - val_accuracy: 0.3268 - val_loss: 2.6856 - learning_rate: 2.5000e-05\n",
      "Epoch 45/50\n",
      "\u001b[1m389/389\u001b[0m \u001b[32m━━━━━━━━━━━━━━━━━━━━\u001b[0m\u001b[37m\u001b[0m \u001b[1m0s\u001b[0m 934ms/step - accuracy: 0.3569 - loss: 2.4684\n",
      "Epoch 45: val_loss improved from 2.65681 to 2.65585, saving model to best_dermnet_model.keras\n",
      "\u001b[1m389/389\u001b[0m \u001b[32m━━━━━━━━━━━━━━━━━━━━\u001b[0m\u001b[37m\u001b[0m \u001b[1m383s\u001b[0m 983ms/step - accuracy: 0.3544 - loss: 2.4746 - val_accuracy: 0.3397 - val_loss: 2.6558 - learning_rate: 2.5000e-05\n",
      "Epoch 46/50\n",
      "\u001b[1m389/389\u001b[0m \u001b[32m━━━━━━━━━━━━━━━━━━━━\u001b[0m\u001b[37m\u001b[0m \u001b[1m0s\u001b[0m 912ms/step - accuracy: 0.3642 - loss: 2.4487\n",
      "Epoch 46: val_loss did not improve from 2.65585\n",
      "\u001b[1m389/389\u001b[0m \u001b[32m━━━━━━━━━━━━━━━━━━━━\u001b[0m\u001b[37m\u001b[0m \u001b[1m373s\u001b[0m 956ms/step - accuracy: 0.3645 - loss: 2.4510 - val_accuracy: 0.3368 - val_loss: 2.6569 - learning_rate: 2.5000e-05\n",
      "Epoch 47/50\n",
      "\u001b[1m389/389\u001b[0m \u001b[32m━━━━━━━━━━━━━━━━━━━━\u001b[0m\u001b[37m\u001b[0m \u001b[1m0s\u001b[0m 893ms/step - accuracy: 0.3527 - loss: 2.4509\n",
      "Epoch 47: val_loss improved from 2.65585 to 2.65049, saving model to best_dermnet_model.keras\n",
      "\u001b[1m389/389\u001b[0m \u001b[32m━━━━━━━━━━━━━━━━━━━━\u001b[0m\u001b[37m\u001b[0m \u001b[1m368s\u001b[0m 944ms/step - accuracy: 0.3553 - loss: 2.4529 - val_accuracy: 0.3358 - val_loss: 2.6505 - learning_rate: 2.5000e-05\n",
      "Epoch 48/50\n",
      "\u001b[1m389/389\u001b[0m \u001b[32m━━━━━━━━━━━━━━━━━━━━\u001b[0m\u001b[37m\u001b[0m \u001b[1m0s\u001b[0m 911ms/step - accuracy: 0.3657 - loss: 2.4282\n",
      "Epoch 48: val_loss improved from 2.65049 to 2.64578, saving model to best_dermnet_model.keras\n",
      "\u001b[1m389/389\u001b[0m \u001b[32m━━━━━━━━━━━━━━━━━━━━\u001b[0m\u001b[37m\u001b[0m \u001b[1m376s\u001b[0m 965ms/step - accuracy: 0.3597 - loss: 2.4374 - val_accuracy: 0.3345 - val_loss: 2.6458 - learning_rate: 2.5000e-05\n",
      "Epoch 49/50\n",
      "\u001b[1m389/389\u001b[0m \u001b[32m━━━━━━━━━━━━━━━━━━━━\u001b[0m\u001b[37m\u001b[0m \u001b[1m0s\u001b[0m 946ms/step - accuracy: 0.3681 - loss: 2.4348\n",
      "Epoch 49: val_loss improved from 2.64578 to 2.62120, saving model to best_dermnet_model.keras\n",
      "\u001b[1m389/389\u001b[0m \u001b[32m━━━━━━━━━━━━━━━━━━━━\u001b[0m\u001b[37m\u001b[0m \u001b[1m390s\u001b[0m 1s/step - accuracy: 0.3684 - loss: 2.4167 - val_accuracy: 0.3442 - val_loss: 2.6212 - learning_rate: 2.5000e-05\n",
      "Epoch 50/50\n",
      "\u001b[1m389/389\u001b[0m \u001b[32m━━━━━━━━━━━━━━━━━━━━\u001b[0m\u001b[37m\u001b[0m \u001b[1m0s\u001b[0m 937ms/step - accuracy: 0.3687 - loss: 2.4173\n",
      "Epoch 50: val_loss did not improve from 2.62120\n",
      "\u001b[1m389/389\u001b[0m \u001b[32m━━━━━━━━━━━━━━━━━━━━\u001b[0m\u001b[37m\u001b[0m \u001b[1m383s\u001b[0m 984ms/step - accuracy: 0.3712 - loss: 2.4124 - val_accuracy: 0.3416 - val_loss: 2.6558 - learning_rate: 2.5000e-05\n"
     ]
    }
   ],
   "source": [
    "\n",
    "history = model.fit(\n",
    "    datagen.flow(train_images, train_labels, batch_size=32),\n",
    "    validation_data=(val_images, val_labels),\n",
    "    epochs=50,\n",
    "    callbacks=[early_stopping, lr_reduction, model_checkpoint],\n",
    "    verbose=1\n",
    ")"
   ]
  },
  {
   "cell_type": "code",
   "execution_count": 53,
   "id": "3ec3ff74",
   "metadata": {},
   "outputs": [],
   "source": [
    "import json\n",
    "\n",
    "with open(\"dermnet_training_history.json\", \"w\") as f:\n",
    "    json.dump(history.history, f)"
   ]
  },
  {
   "cell_type": "code",
   "execution_count": 61,
   "id": "91a36df7",
   "metadata": {},
   "outputs": [],
   "source": [
    "test_images, test_labels = load_data(\"E:/VS/Project/DERMNET/test\")\n"
   ]
  },
  {
   "cell_type": "code",
   "execution_count": 62,
   "id": "f2cdee09",
   "metadata": {},
   "outputs": [],
   "source": [
    "\n",
    "import pickle\n",
    "\n",
    "# Save model\n",
    "model.save(\"dermnet_skin_disease_model.keras\")\n",
    "# Save training history\n",
    "with open(\"dermnet_training_history.pkl\", \"wb\") as f:\n",
    "    pickle.dump(history.history, f)\n",
    "# Later when running webcam\n",
    "model = load_model(\"dermnet_skin_disease_model.keras\")"
   ]
  },
  {
   "cell_type": "code",
   "execution_count": 63,
   "id": "b1de5130",
   "metadata": {},
   "outputs": [
    {
     "name": "stdout",
     "output_type": "stream",
     "text": [
      "2346\n",
      "Saved keys: dict_keys(['accuracy', 'loss', 'val_accuracy', 'val_loss', 'learning_rate'])\n"
     ]
    }
   ],
   "source": [
    "import os\n",
    "print(os.path.getsize(\"dermnet_training_history.pkl\"))  # Should be > 0\n",
    "print(\"Saved keys:\", history.history.keys())"
   ]
  },
  {
   "cell_type": "code",
   "execution_count": 64,
   "id": "59697f6a",
   "metadata": {},
   "outputs": [],
   "source": [
    "from tensorflow.keras.models import load_model"
   ]
  },
  {
   "cell_type": "code",
   "execution_count": 65,
   "id": "565770e4",
   "metadata": {},
   "outputs": [
    {
     "name": "stdout",
     "output_type": "stream",
     "text": [
      "Test Accuracy: 0.3348\n",
      "Test Loss: 2.6377\n"
     ]
    }
   ],
   "source": [
    "test_loss, test_acc = model.evaluate(test_images, test_labels, verbose=0)\n",
    "print(f\"Test Accuracy: {test_acc:.4f}\")\n",
    "print(f\"Test Loss: {test_loss:.4f}\")"
   ]
  }
 ],
 "metadata": {
  "kernelspec": {
   "display_name": "Python (vml)",
   "language": "python",
   "name": "vml"
  },
  "language_info": {
   "codemirror_mode": {
    "name": "ipython",
    "version": 3
   },
   "file_extension": ".py",
   "mimetype": "text/x-python",
   "name": "python",
   "nbconvert_exporter": "python",
   "pygments_lexer": "ipython3",
   "version": "3.13.3"
  }
 },
 "nbformat": 4,
 "nbformat_minor": 5
}
